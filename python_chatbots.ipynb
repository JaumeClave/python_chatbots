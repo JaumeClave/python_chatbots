{
 "cells": [
  {
   "cell_type": "markdown",
   "metadata": {},
   "source": [
    "# Machine Learning and NLP Learning Chatbots\n",
    "Training, building and deploying chatbots via Python by Jaume Clave  \n",
    "October 2nd, 2020"
   ]
  },
  {
   "cell_type": "markdown",
   "metadata": {},
   "source": [
    "## Index\n",
    "\n",
    "[What Are Chatbots](#What-Are-Chatbots)\n",
    "\n",
    "[Local Chatbot](#Local-Chatbot)  \n",
    "i. [Flask](#Flask)  \n",
    "ii. [Chatterbot](#ChatterBot)  \n",
    "iii. [The Chatbot](#The-Chatbot)\n",
    "\n",
    "[WhatsApp Chatbot](#WhatsApp-Chatbot)  \n",
    "i. [Django](#Django)  \n",
    "ii. [Testing the Chatbot](#Testing-the-Chatbot)  \n",
    "\n",
    "[Conclusion](#Conclusion)\n",
    "\n",
    "[Further Reading](#Further-Reading)"
   ]
  },
  {
   "cell_type": "markdown",
   "metadata": {},
   "source": [
    "## What Are Chatbots\n",
    "Chatbots are software applications that use artificial intelligence & natural language processing to understand what a human wants, and guides them to their desired outcome with as little work for the end user as possible. They can act as a virtual assistant for all user experience touchpoints.\n",
    "\n",
    "A well designed & built chatbot will:  \n",
    "\n",
    "    Use existing conversation data (if available) to understand the type of questions people ask.\n",
    "    Analyze correct answers to those questions through a ‘training’ period.\n",
    "    Use machine learning & NLP to learn context, and continually get better at answering those questions in the future.\n",
    "    \n",
    "At the highest level, there are three types of chatbots most consumers see today:\n",
    "\n",
    "    Rules-Based Chatbots – These chatbots follow pre-designed rules, often built using a graphical user interface where \n",
    "    a bot builder will design paths using a decision tree.\n",
    "    AI Chatbots – AI chatbots will automatically learn after an initial training period by a bot developer.\n",
    "    Live Chat – These bots are primarily used by Sales & Sales Development teams. They can also be used by Customer \n",
    "    Support organizations, as live chat is a more simplistic chat option to answer questions in real-time.\n",
    "    \n",
    "This project uses Python and various frameworks to build chatbots able to communicate and share information to an end user."
   ]
  },
  {
   "cell_type": "markdown",
   "metadata": {},
   "source": [
    "## Local Chatbot\n",
    "This section will make use of the Flask framework to create a chatbot which operates on the local device it runs from. The chatbot will be trained using the ChatterBot library and HTML and CSS elements will be used to make it more visually attractive than it would be OOB. \n",
    "\n",
    "### Flask\n",
    "Flask is a lightweight WSGI web application framework. It is designed to make getting started quick and easy, with the ability to scale up to complex applications. It began as a simple wrapper around Werkzeug and Jinja and has become one of the most popular Python web application frameworks.\n",
    "\n",
    "Flask offers suggestions, but doesn't enforce any dependencies or project layout. It is up to the developer to choose the tools and libraries they want to use. There are many extensions provided by the community that make adding new functionality easy. The code is instantiating a Flask object by passing __name__ argument to the Flask constructor. The Flask constructor has one required argument which is the name of the application package. Most of the time __name__ is the correct value. The name of the application package is used by Flask to find static assets, templates and so on."
   ]
  },
  {
   "cell_type": "code",
   "execution_count": null,
   "metadata": {},
   "outputs": [],
   "source": [
    "## Import Flask\n",
    "from flask import Flask, render_template, request\n",
    "\n",
    "app = Flask(__name__)"
   ]
  },
  {
   "cell_type": "markdown",
   "metadata": {},
   "source": [
    "### ChatterBot\n",
    "ChatterBot is a Python library that makes it easy to generate automated responses to a user’s input. ChatterBot uses a selection of machine learning algorithms to produce different types of responses. This makes it easy for developers to create chat bots and automate conversations with users."
   ]
  },
  {
   "cell_type": "code",
   "execution_count": null,
   "metadata": {},
   "outputs": [],
   "source": [
    "## Import Chatterbot\n",
    "from chatterbot import ChatBot\n",
    "from chatterbot.trainers import ChatterBotCorpusTrainer\n",
    "from chatterbot.trainers import ListTrainer\n",
    "\n",
    "bot = ChatBot(\"asdsdce\")\n",
    "trainer = ChatterBotCorpusTrainer(bot)\n",
    "trainer.train('chatterbot.corpus.english')"
   ]
  },
  {
   "cell_type": "markdown",
   "metadata": {},
   "source": [
    "Below is the process diagram for the ChatterBot: \n",
    "\n",
    "</br>\n",
    "<img src = 'https://drive.google.com/uc?id=1HWWD_MQjdOHM9ZYDyMzay0QTo5RfbBSv' width = 500>\n",
    "\n",
    "An untrained instance of ChatterBot starts off with no knowledge of how to communicate. Each time a user enters a statement, the library saves the text that they entered and the text that the statement was in response to. As ChatterBot receives more input the number of responses that it can reply and the accuracy of each response in relation to the input statement increase.\n",
    "\n",
    "\n",
    "\n",
    "\n",
    "The program selects the closest matching response by searching for the closest matching known statement that matches the input, it then chooses a response from the selection of known responses to that statement."
   ]
  },
  {
   "cell_type": "code",
   "execution_count": null,
   "metadata": {},
   "outputs": [],
   "source": [
    "## Run App\n",
    "@app.route(\"/\")\n",
    "def home():    \n",
    "    return render_template(\"home.html\") \n",
    "@app.route(\"/get\")\n",
    "def get_bot_response():    \n",
    "    userText = request.args.get('msg')    \n",
    "    return str(bot.get_response(userText)) \n",
    "if __name__ == \"__main__\":    \n",
    "    app.run()"
   ]
  },
  {
   "cell_type": "markdown",
   "metadata": {},
   "source": [
    "### The Chatbot\n",
    "The code above has a function called *render_template* with the argument *home.html*. This HTML document will serve as the frontend of the chatbot. One important point to note is that the Flask framework searches for HTML files in a special folder termed templates. A folder called *templates* needs to be created and all HTML files should be saved inside it.\n",
    "\n",
    "With only an HTML frontend, the actual chatbot will not reply. When typing nothing will happen and so the below script is added to the HTML file in order to allow the user to input text.\n"
   ]
  },
  {
   "cell_type": "markdown",
   "metadata": {},
   "source": [
    "```HTML\n",
    "<script>\n",
    "        function getBotResponse() {\n",
    "          var rawText = $(\"#textInput\").val();\n",
    "          var userHtml = '<p class=\"userText\"><span>' + rawText + \"</span></p>\";\n",
    "          $(\"#textInput\").val(\"\");\n",
    "          $(\"#chatbox\").append(userHtml);\n",
    "          document\n",
    "            .getElementById(\"userInput\")\n",
    "            .scrollIntoView({ block: \"start\", behavior: \"smooth\" });\n",
    "          $.get(\"/get\", { msg: rawText }).done(function(data) {\n",
    "            var botHtml = '<p class=\"botText\"><span>' + data + \"</span></p>\";\n",
    "            $(\"#chatbox\").append(botHtml);\n",
    "            document\n",
    "              .getElementById(\"userInput\")\n",
    "              .scrollIntoView({ block: \"start\", behavior: \"smooth\" });\n",
    "          });\n",
    "        }\n",
    "        $(\"#textInput\").keypress(function(e) {\n",
    "          if (e.which == 13) {\n",
    "            getBotResponse();\n",
    "          }\n",
    "        });\n",
    "</script>\n",
    "```"
   ]
  },
  {
   "cell_type": "markdown",
   "metadata": {},
   "source": [
    "There are CSS elements to make the html visually attractive. Cascading Style Sheets is a style sheet language used for describing the presentation of a document written in a markup language such as HTML. CSS is a cornerstone technology of the World Wide Web, alongside HTML and JavaScript.\n",
    "\n",
    "The entire *home.html* file located in the *templates* folder is rendered below.\n"
   ]
  },
  {
   "cell_type": "markdown",
   "metadata": {},
   "source": [
    "```html\n",
    "<!DOCTYPE html>\n",
    "<html>\n",
    "  <title>Candice</title>\n",
    "  <head>\n",
    "    <link\n",
    "      rel=\"shortcut icon\"\n",
    "      type=\"image/x-icon\"\n",
    "      href=\"https://user-images.githubusercontent.com/20112458/49326597-773b7280-f57a-11e8-853d-20ed61d18b0d.png\"\n",
    "    />\n",
    "    <script src=\"https://ajax.googleapis.com/ajax/libs/jquery/3.2.1/jquery.min.js\"></script>\n",
    "    <style>\n",
    "      body {\n",
    "        font-family: monospace;\n",
    "      }\n",
    "      h1 {\n",
    "        background-color: yellow;\n",
    "        display: inline-block;\n",
    "        font-size: 3em;\n",
    "        margin: 0;\n",
    "        padding: 14px;\n",
    "      }\n",
    "      h3 {\n",
    "        color: black;\n",
    "        font-size: 20px;\n",
    "        margin-top: 3px;\n",
    "        text-align: center;\n",
    "      }\n",
    "      #chatbox {\n",
    "        margin-left: auto;\n",
    "        margin-right: auto;\n",
    "        width: 40%;\n",
    "        margin-top: 60px;\n",
    "      }\n",
    "      #userInput {\n",
    "        margin-left: auto;\n",
    "        margin-right: auto;\n",
    "        width: 40%;\n",
    "        margin-top: 60px;\n",
    "      }\n",
    "      #textInput {\n",
    "        width: 90%;\n",
    "        border: none;\n",
    "        border-bottom: 3px solid black;\n",
    "        font-family: monospace;\n",
    "        font-size: 17px;\n",
    "      }\n",
    "      .userText {\n",
    "        color: white;\n",
    "        font-family: monospace;\n",
    "        font-size: 17px;\n",
    "        text-align: right;\n",
    "        line-height: 30px;\n",
    "      }\n",
    "      .userText span {\n",
    "        background-color: #808080;\n",
    "        padding: 10px;\n",
    "        border-radius: 2px;\n",
    "      }\n",
    "      .botText {\n",
    "        color: white;\n",
    "        font-family: monospace;\n",
    "        font-size: 17px;\n",
    "        text-align: left;\n",
    "        line-height: 30px;\n",
    "      }\n",
    "      .botText span {\n",
    "        background-color: #4169e1;\n",
    "        padding: 10px;\n",
    "        border-radius: 2px;\n",
    "      }\n",
    "      #tidbit {\n",
    "        position: absolute;\n",
    "        bottom: 0;\n",
    "        right: 0;\n",
    "        width: 300px;\n",
    "      }\n",
    "      .boxed {\n",
    "        margin-left: auto;\n",
    "        margin-right: auto;\n",
    "        width: 78%;\n",
    "        margin-top: 60px;\n",
    "        border: 1px solid green;\n",
    "      }\n",
    "      .box {\n",
    "        border: 2px solid black;\n",
    "      }\n",
    "    </style>\n",
    "  </head>\n",
    "  <body>\n",
    "    <img />\n",
    "    <center>\n",
    "      <h1>\n",
    "        <img\n",
    "          src=\"https://user-images.githubusercontent.com/20112458/49326597-773b7280-f57a-11e8-853d-20ed61d18b0d.png\"\n",
    "          alt=\"CANDICE\"\n",
    "          style=\"width:40px;height:40px;\"\n",
    "        />Your Personal ChatBot\n",
    "      </h1>\n",
    "    </center>\n",
    "    <h3>\n",
    "      <p>\n",
    "        Like this? ❤️ Find this project on\n",
    "        <a href=\"https://www.github.com/sahil-rajput/Candice\">GitHub</a>.\n",
    "      </p>\n",
    "    </h3>\n",
    "    <div class=\"box\"></div>\n",
    "    <div class=\"boxed\">\n",
    "      <div>\n",
    "        <div id=\"chatbox\">\n",
    "          <img\n",
    "            src=\"https://user-images.githubusercontent.com/20112458/49326597-773b7280-f57a-11e8-853d-20ed61d18b0d.png\"\n",
    "            alt=\"CANDICE\"\n",
    "            style=\"width:40px;height:40px;\"\n",
    "          />\n",
    "          <p class=\"botText\">\n",
    "            <span>Hi! I'm Candice your personal ChatBot ❤️</span>\n",
    "          </p>\n",
    "        </div>\n",
    "        <div id=\"userInput\">\n",
    "          <input id=\"textInput\" type=\"text\" name=\"msg\" placeholder=\"Message\" />\n",
    "        </div>\n",
    "      </div>\n",
    "      <script>\n",
    "        function getBotResponse() {\n",
    "          var rawText = $(\"#textInput\").val();\n",
    "          var userHtml = '<p class=\"userText\"><span>' + rawText + \"</span></p>\";\n",
    "          $(\"#textInput\").val(\"\");\n",
    "          $(\"#chatbox\").append(userHtml);\n",
    "          document\n",
    "            .getElementById(\"userInput\")\n",
    "            .scrollIntoView({ block: \"start\", behavior: \"smooth\" });\n",
    "          $.get(\"/get\", { msg: rawText }).done(function(data) {\n",
    "            var botHtml = '<p class=\"botText\"><span>' + data + \"</span></p>\";\n",
    "            $(\"#chatbox\").append(botHtml);\n",
    "            document\n",
    "              .getElementById(\"userInput\")\n",
    "              .scrollIntoView({ block: \"start\", behavior: \"smooth\" });\n",
    "          });\n",
    "        }\n",
    "        $(\"#textInput\").keypress(function(e) {\n",
    "          if (e.which == 13) {\n",
    "            getBotResponse();\n",
    "          }\n",
    "        });\n",
    "      </script>\n",
    "    </div>\n",
    "  </body>\n",
    "</html>\n",
    "``` "
   ]
  },
  {
   "cell_type": "markdown",
   "metadata": {},
   "source": [
    "<img src = 'https://drive.google.com/uc?id=1T2e-OPeP8fCEYxsztgYHId3R375kvGkc' height = 200>"
   ]
  },
  {
   "cell_type": "markdown",
   "metadata": {},
   "source": [
    "The chatbot runs on the local machine and can hold some basic conversation but does not hold anything substantial and is not able to return images or live information such as the news. The following section works on this to allow for such processes."
   ]
  },
  {
   "cell_type": "markdown",
   "metadata": {},
   "source": [
    "## WhatsApp Chatbot\n",
    "This next chatbot will be more intelligent and make use of the Django framework and Twilio in order to function through WhatsApp. This next section will import the requirements, create a virtual environment and demonstrate the chatbot working. \n",
    "\n",
    "Following best practices, a virtual environment will be created... First a project directory will be made using the terminal\n",
    "\n",
    "```\n",
    "$ mkdir whatsapp-bot\n",
    "$ cd whatsapp-bot\n",
    "```\n",
    "\n",
    "```\n",
    "$ python3 -m venv whatsapp-bot-venv\n",
    "$ whatsapp-bot-venv\\Scripts\\activate\n",
    "(whatsapp-bot-venv) $ pip install twilio django requests\n",
    "```\n"
   ]
  },
  {
   "cell_type": "markdown",
   "metadata": {},
   "source": [
    "### Django\n",
    "Django is a high-level Python Web framework that encourages rapid development and clean, pragmatic design. Built by experienced developers, it takes care of much of the hassle of Web development, so a user can focus on writing their app without needing to reinvent the wheel. It’s free and open source.\n",
    "\n",
    "Creating a project with Django is quite simple, once the framework is installed basic command lines on the terminal will initiate setup files that are needed for the project. Code will need to be auto-generated that establishes a Django project – a collection of settings for an instance of Django, including database configuration, Django-specific options and application-specific settings.\n",
    "\n",
    "From the command line the following is exectued...\n",
    "\n",
    "```\n",
    "(whatsapp-bot-venv) $ django-admin startproject bot\n",
    "```\n",
    "\n",
    "This command will auto-generate files for the projects skeleton:\n",
    "\n",
    "```\n",
    "bot/\n",
    "    manage.py\n",
    "    bot/\n",
    "        __init__.py\n",
    "        settings.py\n",
    "        urls.py\n",
    "        asgi.py\n",
    "```\n",
    "\n",
    "From the directory that contains the auto-generated *manage.py* file the following command must be executed from the terminal\n",
    "\n",
    "```\n",
    "(whatsapp-bot-venv) $ python manage.py startapp bot_app\n",
    "```\n",
    "\n",
    "That’ll create a directory bot_app, which is laid out like this:\n",
    "\n",
    "```\n",
    "bot_app/\n",
    "    __init__.py\n",
    "    admin.py\n",
    "    apps.py\n",
    "    migrations/\n",
    "        __init__.py\n",
    "    models.py\n",
    "    tests.py\n",
    "    views.py\n",
    "```\n"
   ]
  },
  {
   "cell_type": "markdown",
   "metadata": {},
   "source": [
    "#### views.py\n",
    "The auto-generated *views.py* file is the file which processes HTTP requests and responses for the web application. Twilio will send a POST request to the specified URL, which will map to a view function, which will return a response to Twilio.\n",
    "\n",
    "The index function creates an *index* view, which will process the Twilio POST requests. The messages sent by the user to the chatbot will be retrieved and turned into lowercase in order to not worry about whether the sender capitalizes the messages or not. Twilio expects a TwiML (an XML-based language) response from our webhook. MessagingResponse() creates a response object for this purpose."
   ]
  },
  {
   "cell_type": "code",
   "execution_count": null,
   "metadata": {},
   "outputs": [],
   "source": [
    "## views.py\n",
    "from twilio.twiml.messaging_response import MessagingResponse\n",
    "from django.views.decorators.csrf import csrf_exempt\n",
    "from django.http import HttpResponse\n",
    "\n",
    "@csrf_exempt\n",
    "def index(request):\n",
    "    if request.method == 'POST':\n",
    "        # retrieve incoming message from POST request in lowercase\n",
    "        incoming_msg = request.POST['Body'].lower()\n",
    "\n",
    "        # create Twilio XML response\n",
    "        resp = MessagingResponse()\n",
    "        msg = resp.message()\n",
    "\n",
    "        if incoming_msg == 'hello':\n",
    "            response = \"*Hi! I am the Quarantine Bot*\"\n",
    "            msg.body(response)\n",
    "\n",
    "        return HttpResponse(str(resp))"
   ]
  },
  {
   "cell_type": "markdown",
   "metadata": {},
   "source": [
    "The above code will return a ```HttpResponse``` that tells Twilio to send the message (response) \"Hi! I am the Quarantine Bot\". \n",
    "\n",
    "#### urls.py\n",
    "This will not work unless it is linked to a URL. In the ```bot_app``` directory, a file called ```urls.py``` needs to be created. The file needs to point to the ``` bot_app/urls.py ```"
   ]
  },
  {
   "cell_type": "code",
   "execution_count": null,
   "metadata": {},
   "outputs": [],
   "source": [
    "## urls.py\n",
    "from django.contrib import admin\n",
    "from django.urls import include, path\n",
    "\n",
    "urlpatterns = [\n",
    "    path('bot/', include('bot_app.urls')),\n",
    "    path('admin/', admin.site.urls),\n",
    "]"
   ]
  },
  {
   "cell_type": "markdown",
   "metadata": {},
   "source": [
    "The include() function allows referencing other URLconfs. Whenever Django encounters include(), it chops off whatever part of the URL matched up to that point and sends the remaining string to the included URLconf for further processing.\n",
    "When Twilio sends a POST request to bot/, it will reference bot_app.urls, which references views.index, where the request will be processed."
   ]
  },
  {
   "cell_type": "markdown",
   "metadata": {},
   "source": [
    "### Testing the Chatbot\n",
    "The app and chatbot can be ran and tested with ```django-admin manage.py runserver``` command. This starts a lightweight development Web server on the local machine. By default, the server runs on port 8000 on the IP address 127.0.0.1. Although an IP address and port number can be explicitly passed. The development server automatically reloads Python code for each request, as needed. The server does not need to be reset for code changes to take effect. However, some actions like adding files don’t trigger a restart, so the server does need to be reset in those cases. When the server is started, and each time the Python code is changed while the server is running, the system check framework will check the entire Django project for some common errors (see the check command). If any errors are found, they will be printed to standard output.\n",
    "\n",
    "``` \n",
    "(whatsapp-bot-venv) $ python manage.py runserver\n",
    "```"
   ]
  },
  {
   "cell_type": "markdown",
   "metadata": {},
   "source": [
    "<img src = 'https://drive.google.com/uc?id=1kESnbpOKSBJlJt2kEjQb7cfvGhdNbtVl' height = 200>"
   ]
  },
  {
   "cell_type": "markdown",
   "metadata": {},
   "source": [
    "There are two terminals opened here the first one contains the lines beginning with forwarding tell the public URL ngrok uses to redirect requests to the local computer. In this screenshot, https://41753802db21.ngrok.io is redirecting requests to the local computer on port 8000. This URL needs to be copied into the Twilio Sandbox for WhatsApp field.\n",
    "\n",
    "The second terminal (in the bottom) shows the ```python manage.py runserver``` command.\n",
    "\n",
    "The below gif shows the WhatsApp chatbot in action. Various commands have been coded that fetch and use public APIs to return specific information. For example, if the word 'quote' is sent the chatbot returns a famous quote.\n"
   ]
  },
  {
   "cell_type": "markdown",
   "metadata": {},
   "source": [
    "<img src = 'https://drive.google.com/uc?id=1DfvOI2NSFkXYK2HgYIaY-LXsAj215t_c' height = 200>\n",
    "\n"
   ]
  },
  {
   "cell_type": "markdown",
   "metadata": {},
   "source": [
    "## Conclusion\n",
    "Chatbots can be extremely helpful for businesses who might not have the resources to answer each customers questions or concerns every minute of the day with a live agent. If the chatbot is trained well it can substitute a human for frequent questions and answers and can always be programmed to direct the customer to a live representative when the chatbot is not able to answer adequately. The technology is easy to build up from and with the amount of replies and chats large companies have with their customers everyday, their AI chatbots are able to train with new conversations. \n",
    "\n",
    "At an individual level, chatbots are interesting and fun and can clearly be used to improve productivity. They can be asked to fetch news, images and even complete automated tasks.\n"
   ]
  },
  {
   "cell_type": "markdown",
   "metadata": {},
   "source": [
    "## Further Reading\n",
    "\n",
    "#### Flask\n",
    "https://palletsprojects.com/p/flask/  \n",
    "https://flask.palletsprojects.com/en/1.1.x/\n",
    "\n",
    "#### Django\n",
    "https://docs.djangoproject.com/en/3.1/  \n",
    "https://realpython.com/tutorials/django/  \n",
    "\n",
    "#### Chatbots\n",
    "https://en.wikipedia.org/wiki/Chatbot  \n",
    "https://www.drift.com/learn/chatbot/"
   ]
  }
 ],
 "metadata": {
  "kernelspec": {
   "display_name": "Python 3.6.10 64-bit ('hello-tf': conda)",
   "language": "python",
   "name": "python361064bithellotfconda8d9504ce75b4495d87c910d1b8c73144"
  },
  "language_info": {
   "codemirror_mode": {
    "name": "ipython",
    "version": 3
   },
   "file_extension": ".py",
   "mimetype": "text/x-python",
   "name": "python",
   "nbconvert_exporter": "python",
   "pygments_lexer": "ipython3",
   "version": "3.6.10"
  }
 },
 "nbformat": 4,
 "nbformat_minor": 2
}
